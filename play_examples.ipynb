{
 "cells": [
  {
   "cell_type": "code",
   "execution_count": 1,
   "source": [
    "from aibro.inference import Inference\n",
    "\n",
    "repo_path = 'pytorch_hub_DieT'\n",
    "Inference.deploy(\n",
    "    repo_path,\n",
    "    dryrun=True,\n",
    ")"
   ],
   "outputs": [
    {
     "output_type": "stream",
     "name": "stdout",
     "text": [
      "Looking in indexes: https://pypi.tuna.tsinghua.edu.cn/simple\n",
      "Requirement already satisfied: numpy==1.21.5 in ./repo_venv/lib/python3.8/site-packages (from -r /home/lilounan/src/AIbro_model_repo/pytorch_hub_DieT/requirements.txt (line 9)) (1.21.5)\n",
      "Requirement already satisfied: pillow==9.0.1 in ./repo_venv/lib/python3.8/site-packages (from -r /home/lilounan/src/AIbro_model_repo/pytorch_hub_DieT/requirements.txt (line 11)) (9.0.1)\n",
      "Requirement already satisfied: timm==0.5.4 in ./repo_venv/lib/python3.8/site-packages (from -r /home/lilounan/src/AIbro_model_repo/pytorch_hub_DieT/requirements.txt (line 13)) (0.5.4)\n",
      "Requirement already satisfied: torch==1.10.2 in ./repo_venv/lib/python3.8/site-packages (from -r /home/lilounan/src/AIbro_model_repo/pytorch_hub_DieT/requirements.txt (line 15)) (1.10.2)\n",
      "Requirement already satisfied: torchvision==0.11.3 in ./repo_venv/lib/python3.8/site-packages (from -r /home/lilounan/src/AIbro_model_repo/pytorch_hub_DieT/requirements.txt (line 19)) (0.11.3)\n",
      "Requirement already satisfied: typing-extensions==4.0.1 in ./repo_venv/lib/python3.8/site-packages (from -r /home/lilounan/src/AIbro_model_repo/pytorch_hub_DieT/requirements.txt (line 21)) (4.0.1)\n",
      "Dependencies installed!\n",
      "1.10.2+cu102\n",
      "Downloading: \"https://github.com/facebookresearch/deit/archive/main.zip\" to /home/lilounan/.cache/torch/hub/main.zip\n",
      "Traceback (most recent call last):\n",
      "  File \"<string>\", line 3, in <module>\n",
      "  File \"/home/lilounan/src/AIbro_model_repo/pytorch_hub_DieT/predict.py\", line 10, in load_model\n",
      "    model = torch.hub.load('facebookresearch/deit:main', 'deit_base_patch16_224', pretrained=True)\n",
      "  File \"/home/lilounan/src/AIbro_model_repo/repo_venv/lib/python3.8/site-packages/torch/hub.py\", line 397, in load\n",
      "    repo_or_dir = _get_cache_or_reload(repo_or_dir, force_reload, verbose, skip_validation)\n",
      "  File \"/home/lilounan/src/AIbro_model_repo/repo_venv/lib/python3.8/site-packages/torch/hub.py\", line 192, in _get_cache_or_reload\n",
      "    download_url_to_file(url, cached_file, progress=False)\n",
      "  File \"/home/lilounan/src/AIbro_model_repo/repo_venv/lib/python3.8/site-packages/torch/hub.py\", line 452, in download_url_to_file\n",
      "    u = urlopen(req)\n",
      "  File \"/usr/lib/python3.8/urllib/request.py\", line 222, in urlopen\n",
      "    return opener.open(url, data, timeout)\n",
      "  File \"/usr/lib/python3.8/urllib/request.py\", line 525, in open\n",
      "    response = self._open(req, data)\n",
      "  File \"/usr/lib/python3.8/urllib/request.py\", line 542, in _open\n",
      "    result = self._call_chain(self.handle_open, protocol, protocol +\n",
      "  File \"/usr/lib/python3.8/urllib/request.py\", line 502, in _call_chain\n",
      "    result = func(*args)\n",
      "  File \"/usr/lib/python3.8/urllib/request.py\", line 1397, in https_open\n",
      "    return self.do_open(http.client.HTTPSConnection, req,\n",
      "  File \"/usr/lib/python3.8/urllib/request.py\", line 1358, in do_open\n",
      "    r = h.getresponse()\n",
      "  File \"/usr/lib/python3.8/http/client.py\", line 1348, in getresponse\n",
      "    response.begin()\n",
      "  File \"/usr/lib/python3.8/http/client.py\", line 316, in begin\n",
      "    version, status, reason = self._read_status()\n",
      "  File \"/usr/lib/python3.8/http/client.py\", line 285, in _read_status\n",
      "    raise RemoteDisconnected(\"Remote end closed connection without\"\n",
      "http.client.RemoteDisconnected: Remote end closed connection without response\n",
      "Prediction finished without error\n",
      "\u001b[32mDRYRUN TEST: passed\n",
      "\u001b[0m\n"
     ]
    }
   ],
   "metadata": {}
  }
 ],
 "metadata": {
  "orig_nbformat": 4,
  "language_info": {
   "name": "python",
   "version": "3.8.10",
   "mimetype": "text/x-python",
   "codemirror_mode": {
    "name": "ipython",
    "version": 3
   },
   "pygments_lexer": "ipython3",
   "nbconvert_exporter": "python",
   "file_extension": ".py"
  },
  "kernelspec": {
   "name": "python3",
   "display_name": "Python 3.8.10 64-bit ('repo_venv': venv)"
  },
  "interpreter": {
   "hash": "20005f515ab61bc93f552b80c574da19aced5c52fcaf5bd6161f151586e2ff14"
  }
 },
 "nbformat": 4,
 "nbformat_minor": 2
}