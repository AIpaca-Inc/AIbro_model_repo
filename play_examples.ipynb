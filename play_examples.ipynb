{
 "cells": [
  {
   "cell_type": "markdown",
   "source": [
    "## Change `repo_path` to try different examples"
   ],
   "metadata": {}
  },
  {
   "cell_type": "code",
   "execution_count": 1,
   "source": [
    "!pip install aibro"
   ],
   "outputs": [
    {
     "output_type": "stream",
     "name": "stdout",
     "text": [
      "Looking in indexes: https://pypi.tuna.tsinghua.edu.cn/simple\n",
      "Requirement already satisfied: aibro in ./repo_venv/lib/python3.8/site-packages (1.1.1)\n",
      "Requirement already satisfied: webencodings==0.5.1 in ./repo_venv/lib/python3.8/site-packages (from aibro) (0.5.1)\n",
      "Requirement already satisfied: nodeenv==1.6.0 in ./repo_venv/lib/python3.8/site-packages (from aibro) (1.6.0)\n",
      "Requirement already satisfied: pyparsing==2.4.7 in ./repo_venv/lib/python3.8/site-packages (from aibro) (2.4.7)\n",
      "Requirement already satisfied: python-socketio[client]==5.2.1 in ./repo_venv/lib/python3.8/site-packages (from aibro) (5.2.1)\n",
      "Requirement already satisfied: packaging==20.9 in ./repo_venv/lib/python3.8/site-packages (from aibro) (20.9)\n",
      "Requirement already satisfied: cfgv==3.2.0 in ./repo_venv/lib/python3.8/site-packages (from aibro) (3.2.0)\n",
      "Requirement already satisfied: virtualenv==20.4.6 in ./repo_venv/lib/python3.8/site-packages (from aibro) (20.4.6)\n",
      "Requirement already satisfied: python-engineio==4.1.0 in ./repo_venv/lib/python3.8/site-packages (from aibro) (4.1.0)\n",
      "Collecting importlib-metadata==4.0.1\n",
      "  Using cached https://pypi.tuna.tsinghua.edu.cn/packages/8e/e2/49966924c93909d47612bb47d911448140a2f6c1390aec2f4c1afbe3748f/importlib_metadata-4.0.1-py3-none-any.whl (16 kB)\n",
      "Requirement already satisfied: pyyaml==5.4.1 in ./repo_venv/lib/python3.8/site-packages (from aibro) (5.4.1)\n",
      "Requirement already satisfied: python-dateutil==2.8.1 in ./repo_venv/lib/python3.8/site-packages (from aibro) (2.8.1)\n",
      "Requirement already satisfied: build==0.3.1.post1 in ./repo_venv/lib/python3.8/site-packages (from aibro) (0.3.1.post1)\n",
      "Requirement already satisfied: pluggy==0.13.1 in ./repo_venv/lib/python3.8/site-packages (from aibro) (0.13.1)\n",
      "Requirement already satisfied: chardet==4.0.0 in ./repo_venv/lib/python3.8/site-packages (from aibro) (4.0.0)\n",
      "Requirement already satisfied: websocket-client==0.58.0 in ./repo_venv/lib/python3.8/site-packages (from aibro) (0.58.0)\n",
      "Requirement already satisfied: tqdm==4.60.0 in ./repo_venv/lib/python3.8/site-packages (from aibro) (4.60.0)\n",
      "Requirement already satisfied: twine==3.4.1 in ./repo_venv/lib/python3.8/site-packages (from aibro) (3.4.1)\n",
      "Requirement already satisfied: colorama==0.4.4 in ./repo_venv/lib/python3.8/site-packages (from aibro) (0.4.4)\n",
      "Requirement already satisfied: six==1.15.0 in ./repo_venv/lib/python3.8/site-packages (from aibro) (1.15.0)\n",
      "Requirement already satisfied: urllib3==1.26.4 in ./repo_venv/lib/python3.8/site-packages (from aibro) (1.26.4)\n",
      "Requirement already satisfied: objsize==0.3.3 in ./repo_venv/lib/python3.8/site-packages (from aibro) (0.3.3)\n",
      "Requirement already satisfied: certifi==2020.12.5 in ./repo_venv/lib/python3.8/site-packages (from aibro) (2020.12.5)\n",
      "Requirement already satisfied: attrs==21.2.0 in ./repo_venv/lib/python3.8/site-packages (from aibro) (21.2.0)\n",
      "Collecting typing-extensions==3.7.4.3\n",
      "  Using cached https://pypi.tuna.tsinghua.edu.cn/packages/60/7a/e881b5abb54db0e6e671ab088d079c57ce54e8a01a3ca443f561ccadb37e/typing_extensions-3.7.4.3-py3-none-any.whl (22 kB)\n",
      "Requirement already satisfied: iniconfig==1.1.1 in ./repo_venv/lib/python3.8/site-packages (from aibro) (1.1.1)\n",
      "Requirement already satisfied: pre-commit==2.12.1 in ./repo_venv/lib/python3.8/site-packages (from aibro) (2.12.1)\n",
      "Requirement already satisfied: py==1.10.0 in ./repo_venv/lib/python3.8/site-packages (from aibro) (1.10.0)\n",
      "Requirement already satisfied: pytest-mock==3.6.1 in ./repo_venv/lib/python3.8/site-packages (from aibro) (3.6.1)\n",
      "Requirement already satisfied: bleach==3.3.0 in ./repo_venv/lib/python3.8/site-packages (from aibro) (3.3.0)\n",
      "Requirement already satisfied: zipp==3.4.1 in ./repo_venv/lib/python3.8/site-packages (from aibro) (3.4.1)\n",
      "Requirement already satisfied: pygments==2.9.0 in ./repo_venv/lib/python3.8/site-packages (from aibro) (2.9.0)\n",
      "Requirement already satisfied: eventlet==0.32.0 in ./repo_venv/lib/python3.8/site-packages (from aibro) (0.32.0)\n",
      "Requirement already satisfied: pytest==6.2.4 in ./repo_venv/lib/python3.8/site-packages (from aibro) (6.2.4)\n",
      "Requirement already satisfied: pytz==2021.1 in ./repo_venv/lib/python3.8/site-packages (from aibro) (2021.1)\n",
      "Requirement already satisfied: dnspython==2.1.0 in ./repo_venv/lib/python3.8/site-packages (from aibro) (2.1.0)\n",
      "Requirement already satisfied: readme-renderer==29.0 in ./repo_venv/lib/python3.8/site-packages (from aibro) (29.0)\n",
      "Requirement already satisfied: rfc3986==1.4.0 in ./repo_venv/lib/python3.8/site-packages (from aibro) (1.4.0)\n",
      "Requirement already satisfied: filelock==3.0.12 in ./repo_venv/lib/python3.8/site-packages (from aibro) (3.0.12)\n",
      "Requirement already satisfied: appdirs==1.4.4 in ./repo_venv/lib/python3.8/site-packages (from aibro) (1.4.4)\n",
      "Requirement already satisfied: docutils==0.17.1 in ./repo_venv/lib/python3.8/site-packages (from aibro) (0.17.1)\n",
      "Requirement already satisfied: clint==0.5.1 in ./repo_venv/lib/python3.8/site-packages (from aibro) (0.5.1)\n",
      "Requirement already satisfied: keyring==23.0.1 in ./repo_venv/lib/python3.8/site-packages (from aibro) (23.0.1)\n",
      "Requirement already satisfied: python-dotenv==0.17.1 in ./repo_venv/lib/python3.8/site-packages (from aibro) (0.17.1)\n",
      "Requirement already satisfied: distlib==0.3.1 in ./repo_venv/lib/python3.8/site-packages (from aibro) (0.3.1)\n",
      "Requirement already satisfied: identify==2.2.4 in ./repo_venv/lib/python3.8/site-packages (from aibro) (2.2.4)\n",
      "Requirement already satisfied: greenlet==1.1.1 in ./repo_venv/lib/python3.8/site-packages (from aibro) (1.1.1)\n",
      "Requirement already satisfied: requests==2.25.1 in ./repo_venv/lib/python3.8/site-packages (from aibro) (2.25.1)\n",
      "Requirement already satisfied: bidict==0.21.2 in ./repo_venv/lib/python3.8/site-packages (from aibro) (0.21.2)\n",
      "Requirement already satisfied: args==0.1.0 in ./repo_venv/lib/python3.8/site-packages (from aibro) (0.1.0)\n",
      "Requirement already satisfied: plotly==5.1.0 in ./repo_venv/lib/python3.8/site-packages (from aibro) (5.1.0)\n",
      "Requirement already satisfied: toml==0.10.2 in ./repo_venv/lib/python3.8/site-packages (from aibro) (0.10.2)\n",
      "Requirement already satisfied: idna==2.10 in ./repo_venv/lib/python3.8/site-packages (from aibro) (2.10)\n",
      "Requirement already satisfied: requests-toolbelt==0.9.1 in ./repo_venv/lib/python3.8/site-packages (from aibro) (0.9.1)\n",
      "Collecting pandas==1.2.5\n",
      "  Using cached https://pypi.tuna.tsinghua.edu.cn/packages/3e/be/348ed196eeeae0d0c189a6dbce838cfa21d7cd8ae43af878fb875e19939b/pandas-1.2.5-cp38-cp38-manylinux_2_5_x86_64.manylinux1_x86_64.whl (9.7 MB)\n",
      "Requirement already satisfied: pkginfo==1.7.0 in ./repo_venv/lib/python3.8/site-packages (from aibro) (1.7.0)\n",
      "Collecting numpy==1.19.5\n",
      "  Using cached https://pypi.tuna.tsinghua.edu.cn/packages/66/d7/3b133b17e185f14137bc8afe7a41daf1f31556900f10238312a5ae9c7345/numpy-1.19.5-cp38-cp38-manylinux2010_x86_64.whl (14.9 MB)\n",
      "Requirement already satisfied: pep517==0.10.0 in ./repo_venv/lib/python3.8/site-packages (from aibro) (0.10.0)\n",
      "Requirement already satisfied: tenacity==7.0.0 in ./repo_venv/lib/python3.8/site-packages (from aibro) (7.0.0)\n",
      "Requirement already satisfied: jeepney>=0.4.2 in ./repo_venv/lib/python3.8/site-packages (from keyring==23.0.1->aibro) (0.7.1)\n",
      "Requirement already satisfied: SecretStorage>=3.2 in ./repo_venv/lib/python3.8/site-packages (from keyring==23.0.1->aibro) (3.3.1)\n",
      "Requirement already satisfied: cryptography>=2.0 in ./repo_venv/lib/python3.8/site-packages (from SecretStorage>=3.2->keyring==23.0.1->aibro) (36.0.1)\n",
      "Requirement already satisfied: cffi>=1.12 in ./repo_venv/lib/python3.8/site-packages (from cryptography>=2.0->SecretStorage>=3.2->keyring==23.0.1->aibro) (1.15.0)\n",
      "Requirement already satisfied: pycparser in ./repo_venv/lib/python3.8/site-packages (from cffi>=1.12->cryptography>=2.0->SecretStorage>=3.2->keyring==23.0.1->aibro) (2.21)\n",
      "Installing collected packages: typing-extensions, numpy, importlib-metadata, pandas\n",
      "  Attempting uninstall: typing-extensions\n",
      "    Found existing installation: typing_extensions 4.0.1\n",
      "    Uninstalling typing_extensions-4.0.1:\n",
      "      Successfully uninstalled typing_extensions-4.0.1\n",
      "  Attempting uninstall: numpy\n",
      "    Found existing installation: numpy 1.21.5\n",
      "    Uninstalling numpy-1.21.5:\n",
      "      Successfully uninstalled numpy-1.21.5\n",
      "  Attempting uninstall: importlib-metadata\n",
      "    Found existing installation: importlib-metadata 4.11.3\n",
      "    Uninstalling importlib-metadata-4.11.3:\n",
      "      Successfully uninstalled importlib-metadata-4.11.3\n",
      "  Attempting uninstall: pandas\n",
      "    Found existing installation: pandas 1.0.5\n",
      "    Uninstalling pandas-1.0.5:\n",
      "      Successfully uninstalled pandas-1.0.5\n",
      "\u001b[31mERROR: pip's dependency resolver does not currently take into account all the packages that are installed. This behaviour is the source of the following dependency conflicts.\n",
      "markdown 3.3.6 requires importlib-metadata>=4.4; python_version < \"3.10\", but you have importlib-metadata 4.0.1 which is incompatible.\n",
      "black 22.1.0 requires typing-extensions>=3.10.0.0; python_version < \"3.10\", but you have typing-extensions 3.7.4.3 which is incompatible.\u001b[0m\u001b[31m\n",
      "\u001b[0mSuccessfully installed importlib-metadata-4.0.1 numpy-1.19.5 pandas-1.2.5 typing-extensions-3.7.4.3\n",
      "\u001b[33mWARNING: You are using pip version 22.0.3; however, version 22.0.4 is available.\n",
      "You should consider upgrading via the '/home/lilounan/src/AIbro_model_repo/repo_venv/bin/python3 -m pip install --upgrade pip' command.\u001b[0m\u001b[33m\n",
      "\u001b[0m"
     ]
    }
   ],
   "metadata": {}
  },
  {
   "cell_type": "code",
   "execution_count": 2,
   "source": [
    "from aibro.inference import Inference\n",
    "\n",
    "repo_path = 'pytorch_hub_DieT'\n",
    "# repo_path = 'sklearn_random_forest'\n",
    "# repo_path = 'sentiment_model_repo'\n",
    "Inference.deploy(\n",
    "    repo_path,\n",
    "    dryrun=True,\n",
    ")"
   ],
   "outputs": [
    {
     "output_type": "stream",
     "name": "stdout",
     "text": [
      "Looking in indexes: https://pypi.tuna.tsinghua.edu.cn/simple\n",
      "Collecting numpy==1.21.5\n",
      "  Using cached https://pypi.tuna.tsinghua.edu.cn/packages/9c/ac/bd195e349dd5cacd6b8bbae2100c43017a57b27dbd0c6d99471c8f16a41d/numpy-1.21.5-cp38-cp38-manylinux_2_12_x86_64.manylinux2010_x86_64.whl (15.7 MB)\n",
      "Requirement already satisfied: pillow==9.0.1 in ./repo_venv/lib/python3.8/site-packages (from -r /home/lilounan/src/AIbro_model_repo/pytorch_hub_DieT/requirements.txt (line 11)) (9.0.1)\n",
      "Requirement already satisfied: timm==0.5.4 in ./repo_venv/lib/python3.8/site-packages (from -r /home/lilounan/src/AIbro_model_repo/pytorch_hub_DieT/requirements.txt (line 13)) (0.5.4)\n",
      "Requirement already satisfied: torch==1.10.2 in ./repo_venv/lib/python3.8/site-packages (from -r /home/lilounan/src/AIbro_model_repo/pytorch_hub_DieT/requirements.txt (line 15)) (1.10.2)\n",
      "Requirement already satisfied: torchvision==0.11.3 in ./repo_venv/lib/python3.8/site-packages (from -r /home/lilounan/src/AIbro_model_repo/pytorch_hub_DieT/requirements.txt (line 19)) (0.11.3)\n",
      "Collecting typing-extensions==4.0.1\n",
      "  Using cached https://pypi.tuna.tsinghua.edu.cn/packages/05/e4/baf0031e39cf545f0c9edd5b1a2ea12609b7fcba2d58e118b11753d68cf0/typing_extensions-4.0.1-py3-none-any.whl (22 kB)\n",
      "Installing collected packages: typing-extensions, numpy\n",
      "  Attempting uninstall: typing-extensions\n",
      "    Found existing installation: typing-extensions 3.7.4.3\n",
      "    Uninstalling typing-extensions-3.7.4.3:\n",
      "      Successfully uninstalled typing-extensions-3.7.4.3\n",
      "  Attempting uninstall: numpy\n",
      "    Found existing installation: numpy 1.19.5\n",
      "    Uninstalling numpy-1.19.5:\n",
      "      Successfully uninstalled numpy-1.19.5\n",
      "ERROR: pip's dependency resolver does not currently take into account all the packages that are installed. This behaviour is the source of the following dependency conflicts.\n",
      "tensorflow 2.5.0 requires numpy~=1.19.2, but you have numpy 1.21.5 which is incompatible.\n",
      "tensorflow 2.5.0 requires typing-extensions~=3.7.4, but you have typing-extensions 4.0.1 which is incompatible.\n",
      "aibro 1.1.1 requires numpy==1.19.5, but you have numpy 1.21.5 which is incompatible.\n",
      "aibro 1.1.1 requires typing-extensions==3.7.4.3, but you have typing-extensions 4.0.1 which is incompatible.\n",
      "Successfully installed numpy-1.21.5 typing-extensions-4.0.1\n",
      "WARNING: You are using pip version 22.0.3; however, version 22.0.4 is available.\n",
      "You should consider upgrading via the '/home/lilounan/src/AIbro_model_repo/repo_venv/bin/python3 -m pip install --upgrade pip' command.\n",
      "Dependencies installed!\n",
      "1.10.2+cu102\n",
      "Using cache found in /home/lilounan/.cache/torch/hub/facebookresearch_deit_main\n",
      "/home/lilounan/src/AIbro_model_repo/repo_venv/lib/python3.8/site-packages/torchvision/transforms/transforms.py:287: UserWarning: Argument interpolation should be of type InterpolationMode instead of int. Please, use InterpolationMode enum.\n",
      "  warnings.warn(\n",
      "Prediction finished without error\n",
      "\u001b[32mDRYRUN TEST: passed\n",
      "\u001b[0m\n"
     ]
    }
   ],
   "metadata": {}
  },
  {
   "cell_type": "code",
   "execution_count": 3,
   "source": [
    "from aibro.inference import Inference\n",
    "\n",
    "api_url = Inference.deploy(\n",
    "    model_name = \"DieT\",\n",
    "    machine_id_config = \"c5.large.od\",\n",
    "    artifacts_path = repo_path,\n",
    "    client_ids = [] # if no clients are specified, the inference job becomes public\n",
    ")"
   ],
   "outputs": [
    {
     "output_type": "stream",
     "name": "stdout",
     "text": [
      "Please open https://aipaca.ai/inference_jobs to track job status.\n",
      "[LAUNCHING]: Starting public inference job: inf_a388beea-b8f2-49d1-ab15-526cfad121fc\n",
      "[LAUNCHING]: Requesting {'standby': 'c5.large.od'} to be ready...\n",
      "[LAUNCHING]: Started a standby c5.large.od.\n",
      "[LAUNCHING]: c5.large.od server successfully requested, launching and building...\n",
      "[LAUNCHING]: [ Getting server ready in around: 1 minute ]\n",
      "Your {'standby': 'c5.large.od'} instances are now ready 🎉\n",
      "\n",
      "[SENDING]: Serializing your artifacts...\n",
      "\u001b[?25l"
     ]
    },
    {
     "output_type": "stream",
     "name": "stderr",
     "text": [
      "[SENDING]: |>>>>>>>>> | 90.03 % 0.13 / 0.15 MiB [avg: 0.51MiB/s]"
     ]
    },
    {
     "output_type": "stream",
     "name": "stdout",
     "text": [
      "\u001b[?25h"
     ]
    },
    {
     "output_type": "stream",
     "name": "stderr",
     "text": [
      "[SENDING]: |>>>>>>>>>>| 100.00 % 0.15 / 0.15 MiB [avg: 0.28MiB/s]\n"
     ]
    },
    {
     "output_type": "stream",
     "name": "stdout",
     "text": [
      "\u001b[32mYour Inference API URL: http://api.aipaca.ai/v1/sggbond97/public/DieT/predict\n",
      "\u001b[0m\n"
     ]
    }
   ],
   "metadata": {}
  },
  {
   "cell_type": "markdown",
   "source": [
    "### Inference paradigm using curl:\n",
    "1. to inference a zip file\n",
    "!curl -X POST {{your_inference_api_url}} -d 'path/to/repo/data.zip'\n",
    "2. to inference a json data\n",
    "!curl -X POST {{your_inference_api_url}} -d '{'key': value, ...}'"
   ],
   "metadata": {}
  },
  {
   "cell_type": "code",
   "execution_count": 5,
   "source": [
    "!curl -X POST {{http://api.aipaca.ai/v1/sggbond97/public/DieT/predict}} -d 'pytorch_hub_DieT/data.zip'"
   ],
   "outputs": [
    {
     "output_type": "stream",
     "name": "stdout",
     "text": [
      "269"
     ]
    }
   ],
   "metadata": {}
  },
  {
   "cell_type": "markdown",
   "source": [
    "## Limit API Access to Specific Clients (Optional)\n",
    "\n",
    "As the API owner, you probably don't receive overwhelming API requests from everywhere. To avoid this trouble, you could give every client an unique client id, which is going to used in API endpoint (as the shown syntax in the step 4). If no client id was added, this inference job would be public by default."
   ],
   "metadata": {}
  },
  {
   "cell_type": "code",
   "execution_count": null,
   "source": [
    "from aibro.inference import Inference\n",
    "Inference.update_clients(\n",
    "    job_id = \"inf_f8eef73f-048a-4c08-b5de-cadc769a7f11\",\n",
    "    add_client_ids = [\"client_1\", \"client_2\"]\n",
    ")"
   ],
   "outputs": [],
   "metadata": {}
  },
  {
   "cell_type": "code",
   "execution_count": null,
   "source": [
    "!curl -d 'pytorch_hub_DieT/data.zip' -X POST {{http://api.aipaca.ai/v1/sggbond97/public/DieT/predict}}"
   ],
   "outputs": [],
   "metadata": {}
  },
  {
   "cell_type": "markdown",
   "source": [
    "## Complete Job\n",
    "\n",
    "Once the inference job is no longer used, to avoid unnecessary cost, please remember to close it by Inference.complete()."
   ],
   "metadata": {}
  },
  {
   "cell_type": "code",
   "execution_count": null,
   "source": [
    "Inference.complete(job_id=\"inf_f8eef73f-048a-4c08-b5de-cadc769a7f11\")"
   ],
   "outputs": [],
   "metadata": {}
  }
 ],
 "metadata": {
  "interpreter": {
   "hash": "20005f515ab61bc93f552b80c574da19aced5c52fcaf5bd6161f151586e2ff14"
  },
  "kernelspec": {
   "name": "python3",
   "display_name": "Python 3.8.10 64-bit ('repo_venv': venv)"
  },
  "language_info": {
   "codemirror_mode": {
    "name": "ipython",
    "version": 3
   },
   "file_extension": ".py",
   "mimetype": "text/x-python",
   "name": "python",
   "nbconvert_exporter": "python",
   "pygments_lexer": "ipython3",
   "version": "3.8.10"
  },
  "orig_nbformat": 4
 },
 "nbformat": 4,
 "nbformat_minor": 2
}