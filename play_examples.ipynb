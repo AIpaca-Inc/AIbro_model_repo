{
 "cells": [
  {
   "cell_type": "code",
   "execution_count": 2,
   "source": [
    "from aibro.inference import Inference\n",
    "\n",
    "repo_path = 'pytorch_hub_DieT'\n",
    "Inference.deploy(\n",
    "    repo_path,\n",
    "    dryrun=True,\n",
    ")"
   ],
   "outputs": [
    {
     "output_type": "stream",
     "name": "stdout",
     "text": [
      "Looking in indexes: https://pypi.tuna.tsinghua.edu.cn/simple\n",
      "Collecting numpy==1.21.5\n",
      "  Using cached https://pypi.tuna.tsinghua.edu.cn/packages/50/46/292cff79f5b30151b027400efdb3f740ea03271b600751b6696cf550c10d/numpy-1.21.5-cp37-cp37m-manylinux_2_12_x86_64.manylinux2010_x86_64.whl (15.7 MB)\n",
      "Collecting pillow==9.0.1\n",
      "  Using cached https://pypi.tuna.tsinghua.edu.cn/packages/c3/56/bdf1b802e111050e3fe11150e09d2e220478cf5af4256e7fa628663fa08f/Pillow-9.0.1-cp37-cp37m-manylinux_2_17_x86_64.manylinux2014_x86_64.whl (4.3 MB)\n",
      "Collecting timm==0.5.4\n",
      "  Using cached https://pypi.tuna.tsinghua.edu.cn/packages/49/65/a83208746dc9c0d70feff7874b49780ff110810feb528df4b0ecadcbee60/timm-0.5.4-py3-none-any.whl (431 kB)\n",
      "Collecting torch==1.10.2\n",
      "  Using cached https://pypi.tuna.tsinghua.edu.cn/packages/01/73/a8dcb6da2193980309bf2d605d0ff56698a7c6977ea954413b163baddf77/torch-1.10.2-cp37-cp37m-manylinux1_x86_64.whl (881.9 MB)\n",
      "Collecting torchvision==0.11.3\n",
      "  Using cached https://pypi.tuna.tsinghua.edu.cn/packages/58/11/d8b150c7990f04be7dd379bc003b6cc6f7adb19d296ea2203280dddce2aa/torchvision-0.11.3-cp37-cp37m-manylinux1_x86_64.whl (23.2 MB)\n",
      "Collecting typing-extensions==4.0.1\n",
      "  Using cached https://pypi.tuna.tsinghua.edu.cn/packages/05/e4/baf0031e39cf545f0c9edd5b1a2ea12609b7fcba2d58e118b11753d68cf0/typing_extensions-4.0.1-py3-none-any.whl (22 kB)\n",
      "Installing collected packages: numpy, pillow, typing-extensions, torch, torchvision, timm\n",
      "Successfully installed numpy-1.21.5 pillow-9.0.1 timm-0.5.4 torch-1.10.2 torchvision-0.11.3 typing-extensions-4.0.1\n",
      "WARNING: You are using pip version 20.1.1; however, version 22.0.3 is available.\n",
      "You should consider upgrading via the '/home/lilounan/src/AIbro_model_repo/repo_venv/bin/python -m pip install --upgrade pip' command.\n",
      "Dependencies installed!\n",
      "Traceback (most recent call last):\n",
      "  File \"<string>\", line 2, in <module>\n",
      "  File \"/home/lilounan/src/AIbro_model_repo/pytorch_hub_DieT/predict.py\", line 4, in <module>\n",
      "    import requests\n",
      "ModuleNotFoundError: No module named 'requests'\n",
      "Prediction finished without error\n",
      "\u001b[32mDRYRUN TEST: passed\n",
      "\u001b[0m\n"
     ]
    }
   ],
   "metadata": {}
  }
 ],
 "metadata": {
  "orig_nbformat": 4,
  "language_info": {
   "name": "python",
   "version": "3.7.10",
   "mimetype": "text/x-python",
   "codemirror_mode": {
    "name": "ipython",
    "version": 3
   },
   "pygments_lexer": "ipython3",
   "nbconvert_exporter": "python",
   "file_extension": ".py"
  },
  "kernelspec": {
   "name": "python3",
   "display_name": "Python 3.7.10 64-bit ('arepo': conda)"
  },
  "interpreter": {
   "hash": "00cd5d1fd01d0305bc96669566d92ec236fbac3e6ecb2d6657394b9107977fa8"
  }
 },
 "nbformat": 4,
 "nbformat_minor": 2
}